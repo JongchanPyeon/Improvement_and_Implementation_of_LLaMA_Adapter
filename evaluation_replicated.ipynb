{
 "cells": [
  {
   "cell_type": "code",
   "execution_count": null,
   "id": "82f97697-793b-4a7b-8d1c-348b6640fc40",
   "metadata": {},
   "outputs": [],
   "source": [
    "%cd LLaMA-Adapter_replcated/llama_adapter_v2_multimodal7b\n",
    "!pip install -r requirements.txt\n",
    "%cd ../.."
   ]
  },
  {
   "cell_type": "code",
   "execution_count": null,
   "id": "bb7eac58-4cc4-48d4-8b16-64c06cca618e",
   "metadata": {},
   "outputs": [],
   "source": [
    "!mkdir /path/to/evaluation_result\n",
    "!python  LLaMA-Adapter_replcated/llama_adapter_v2_multimodal7b/util/evaluate_mme.py --pretrained_path /path/to/adapter_7B_bias.pth --llama_path LLaMA-7B --output_path /path/to/evaluation_result"
   ]
  }
 ],
 "metadata": {
  "kernelspec": {
   "display_name": "Python 3 (ipykernel)",
   "language": "python",
   "name": "python3"
  },
  "language_info": {
   "codemirror_mode": {
    "name": "ipython",
    "version": 3
   },
   "file_extension": ".py",
   "mimetype": "text/x-python",
   "name": "python",
   "nbconvert_exporter": "python",
   "pygments_lexer": "ipython3",
   "version": "3.11.7"
  }
 },
 "nbformat": 4,
 "nbformat_minor": 5
}
