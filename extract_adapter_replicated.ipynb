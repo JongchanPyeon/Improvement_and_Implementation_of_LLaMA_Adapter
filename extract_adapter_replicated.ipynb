{
 "cells": [
  {
   "cell_type": "code",
   "execution_count": null,
   "id": "bdaa8eec-acc2-49b1-9312-8cac0e240e94",
   "metadata": {},
   "outputs": [],
   "source": [
    "%cd LLaMA-Adapter_replicated/llama_adapter_v2_multimodal7b\n",
    "!pip install -r requirements.txt"
   ]
  },
  {
   "cell_type": "code",
   "execution_count": null,
   "id": "7f7af4d2-539f-417d-8e78-6671c4d12634",
   "metadata": {},
   "outputs": [],
   "source": [
    "import os \n",
    "from llama.llama_adapter import LLaMA_adapter\n",
    "import util.misc as misc\n",
    "import util.extract_adapter_from_checkpoint as extract\n",
    "from PIL import Image\n",
    "import cv2\n",
    "import torch\n",
    "import llama\n",
    "\n",
    "%cd ../.."
   ]
  },
  {
   "cell_type": "code",
   "execution_count": null,
   "id": "9f414c27-f316-44fd-8ea2-323a83e85a94",
   "metadata": {},
   "outputs": [],
   "source": [
    "device = \"cuda\" if torch.cuda.is_available() else \"cpu\"\n",
    "\n",
    "llama_dir = \"/path/to/LLaMA-7B\"\n",
    "llama_type = '7B'\n",
    "llama_ckpt_dir = os.path.join(llama_dir, llama_type)\n",
    "llama_tokenzier_path = os.path.join(llama_dir, 'tokenizer.model')\n",
    "model = LLaMA_adapter(llama_ckpt_dir, llama_tokenzier_path)\n",
    "\n",
    "misc.load_model(model, '/path/to/checkpoint.pth')\n",
    "model.eval()\n",
    "model.to(device)\n",
    "\n",
    "prompt = llama.format_prompt('Does this artwork exist in the form of glassware? Please answer yes or no.')\n",
    "img = Image.fromarray(cv2.imread(\"MME_Benchmark_release_version/MME_Benchmark/artwork/images/10002.jpg\"))\n",
    "img = model.clip_transform(img).unsqueeze(0).to(device)\n",
    "\n",
    "result = model.generate(img, [prompt])[0]\n",
    "print(result)\n",
    "\n",
    "extract.save(model,'/path/to/adapter_7B_bias.pth','BIAS') # Please end it with -llama_type.pth"
   ]
  }
 ],
 "metadata": {
  "kernelspec": {
   "display_name": "Python 3 (ipykernel)",
   "language": "python",
   "name": "python3"
  },
  "language_info": {
   "codemirror_mode": {
    "name": "ipython",
    "version": 3
   },
   "file_extension": ".py",
   "mimetype": "text/x-python",
   "name": "python",
   "nbconvert_exporter": "python",
   "pygments_lexer": "ipython3",
   "version": "3.11.7"
  }
 },
 "nbformat": 4,
 "nbformat_minor": 5
}
